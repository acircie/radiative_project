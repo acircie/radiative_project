{
 "cells": [
  {
   "cell_type": "code",
   "execution_count": 1,
   "id": "f4fc470b-a0d7-4f1a-b29d-684d9473d032",
   "metadata": {},
   "outputs": [
    {
     "name": "stderr",
     "output_type": "stream",
     "text": [
      "WARNING:root:sherpa and gammapy are not installed, the agnpy.fit module cannot be used\n"
     ]
    }
   ],
   "source": [
    "import os, subprocess, sys, pkg_resources\n",
    "\n",
    "required = {'numpy', 'astropy', 'agnpy'}\n",
    "installed = {pkg.key for pkg in pkg_resources.working_set}\n",
    "missing = required - installed\n",
    "if missing:\n",
    "    subprocess.check_call([sys.executable, '-m','pip','install','--quiet',*missing])\n",
    "\n",
    "import numpy as np\n",
    "from astropy.constants import m_e\n",
    "from astropy.coordinates import Distance\n",
    "import astropy.units as u\n",
    "import matplotlib as mpl\n",
    "import matplotlib.pyplot as plt\n",
    "from IPython.display import Image\n",
    "\n",
    "\n",
    "#### AGNpy classes ####\n",
    "from agnpy.spectra import PowerLaw\n",
    "from agnpy.emission_regions import Blob\n",
    "from agnpy.synchrotron import Synchrotron\n",
    "from agnpy.compton import SynchrotronSelfCompton\n",
    "import warnings\n",
    "warnings.filterwarnings('ignore')\n",
    "\n",
    "def plot_setup(log_scale = 'none'):\n",
    "    \n",
    "    if log_scale == 'x':\n",
    "        ax.set_xscale('log')\n",
    "        \n",
    "    elif log_scale == 'y':\n",
    "        ax.set_yscale('log')\n",
    "        \n",
    "    elif log_scale == 'both':\n",
    "        ax.set_xscale('log')\n",
    "        ax.set_yscale('log')\n",
    "        \n",
    "    ax.tick_params(which = 'both', direction = 'in', top = True, right = True,\n",
    "                  grid_alpha = 0.5, grid_linestyle = '--')\n",
    "    ax.grid(True)\n",
    "\n"
   ]
  },
  {
   "cell_type": "markdown",
   "id": "b5a031b9-8281-44b5-b2af-fc6c5b6af7e4",
   "metadata": {},
   "source": [
    "In this notebook we explore how the spectrum changes when we change the parameters that define the emission region\n",
    "and the electron distribution.\n",
    "\n",
    "Let's start by keeping the emission region fixed and tweaking the electron distribution.\n",
    "We still consider a PowerLaw distribution but we allow the variation of the total energy content $W_e$ and slope $p$ as well as the maximum and minimum Lorentz factors of the electrons."
   ]
  },
  {
   "cell_type": "code",
   "execution_count": 2,
   "id": "c92a37d0-a4a0-4350-9877-495f00718479",
   "metadata": {},
   "outputs": [],
   "source": [
    "# We keep the emission region parameters fixed\n",
    "R_b = 1e16 * u.cm                    \n",
    "V_b = 4/3 * np.pi * np.power(R_b, 3) \n",
    "z = Distance(1e27, unit = u.cm).z    \n",
    "delta_D = 10                         \n",
    "Gamma = 10                           \n",
    "B = 1 * u.G  \n"
   ]
  },
  {
   "cell_type": "markdown",
   "metadata": {},
   "source": [
    "\n",
    "Build a grid in $W_e$ and p and define an electron distribution for each pair of values.\n",
    "For now we will keep $γ_{min}$ and $γ_{max}$ fixed\n"
   ]
  },
  {
   "cell_type": "code",
   "execution_count": null,
   "metadata": {},
   "outputs": [],
   "source": [
    "\n",
    "total_energies = np.power(10.,np.arange(42,52.1, .1)) \n",
    "powers = np.arange(2.0, 3.01, 0.01)\n",
    "\n",
    "shape = (len(total_energies), len(powers))\n",
    "e_distributions = []\n",
    "\n",
    "for i, w in enumerate(total_energies):\n",
    "\n",
    "    this_w = w * u.Unit('erg')\n",
    "    these_e_distributions = []\n",
    "    for j, p in enumerate(powers):\n",
    "        \n",
    "        n_e = PowerLaw.from_total_energy(W = this_w, V = V_b, p = p, \n",
    "                                         gamma_min = 1e2, gamma_max = 1e5, mass = m_e)\n",
    "        these_e_distributions.append(n_e)\n",
    "\n",
    "    e_distributions.append(these_e_distributions)\n",
    " "
   ]
  },
  {
   "cell_type": "markdown",
   "metadata": {},
   "source": [
    "   \n",
    "e_distributions now contains a matrix of electron distributions defined on a grid of $W_e$ and p       \n",
    "From here, we can define a matrix of emission regions in a very similar fashion\n"
   ]
  },
  {
   "cell_type": "code",
   "execution_count": null,
   "metadata": {},
   "outputs": [],
   "source": [
    "\n",
    "blobs = []\n",
    "for i in range(len(total_energies)):\n",
    "    \n",
    "    these_blobs = []\n",
    "    for j in range(len(powers)):\n",
    "        \n",
    "        this_blob = Blob(R_b, z, delta_D, Gamma, B, n_e = e_distributions[i][j])\n",
    "        these_blobs.append(this_blob)\n",
    "\n",
    "    blobs.append(these_blobs)\n"
   ]
  },
  {
   "cell_type": "markdown",
   "id": "4fe17901-bd90-45b6-9533-72c3c7c73573",
   "metadata": {},
   "source": [
    "### Synchrotron"
   ]
  },
  {
   "cell_type": "markdown",
   "id": "7b727e5e-2a7e-4582-ac20-22b90b229a29",
   "metadata": {},
   "source": [
    "For each blob we can now define a spectrum\n",
    "as in the fixed parameter case, let's explore how each spectrum is affected individually\n",
    "Before combining them into our total spectrum\n",
    "This time, we'll only look at the case that takes Self-Absorption into account\n"
   ]
  },
  {
   "cell_type": "code",
   "execution_count": null,
   "metadata": {},
   "outputs": [],
   "source": [
    "\n",
    "synch_seds = []\n",
    "for i in range(len(total_energies)):\n",
    "\n",
    "    these_seds = []\n",
    "    for j in range(len(powers)):\n",
    "        blob = blobs[i][j]\n",
    "        synch = Synchrotron(blob, ssa = True)\n",
    "        nu_syn = np.logspace(8, 23) * u.Hz\n",
    "        synch_sed = synch.sed_flux(nu_syn)\n",
    "        these_seds.append(synch_sed)\n",
    "\n",
    "    synch_seds.append(these_seds)"
   ]
  },
  {
   "cell_type": "markdown",
   "id": "47c7181d-0ffe-4f39-a5e7-a1f58dea51bf",
   "metadata": {},
   "source": [
    "\n",
    " Let's plot the results\n",
    "First let's see how the individual parameters affect the spectrum, by fixing one and variating the other\n",
    "\n",
    "Here we fix the total energy of the distribution at $W_e \\sim 10^{48} erg$ ($W_e$ = total_energies[60])\n"
   ]
  },
  {
   "cell_type": "code",
   "execution_count": null,
   "metadata": {},
   "outputs": [],
   "source": [
    "\n",
    "fig, ax = plt.subplots()\n",
    "\n",
    "\n",
    "cmap = mpl.cm.get_cmap('plasma', len(powers))\n",
    "\n",
    "# make a dummie mappable for the colorbar\n",
    "c = np.arange(1, len(powers)+1)\n",
    "v = [float(_) for _ in powers]\n",
    "dummie_cax = ax.scatter(c, c, c = v, cmap = cmap)\n",
    "\n",
    "# clear axis\n",
    "ax.cla()\n",
    "\n",
    "plot_setup('both')\n",
    "\n",
    "for j, p in enumerate(powers):\n",
    "    \n",
    "    ax.plot(nu_syn, synch_seds[60][j], color = cmap(j))\n",
    "fig.colorbar(dummie_cax, ticks = [v[0], v[50], v[100]], label = 'p')\n",
    "\n",
    "ax.set_xlabel('ν [Hz]',fontsize = 16)\n",
    "ax.set_ylabel(r'ν F$_{\\nu}$ [erg/cm$^{2}$/s]', fontsize = 16)\n",
    "ax.set_title('W$_{e}$ = 10$^{48}$ erg -- p variable', fontsize = 16)\n",
    "ax.set_ylim(1e-16, 1e-7)"
   ]
  },
  {
   "cell_type": "markdown",
   "id": "2f37e279-4a01-4c8e-a649-3dd24f85d731",
   "metadata": {},
   "source": [
    " Let's now do the same, but fixing p = 2.5 (p = powers[50]) and variating W_e\n"
   ]
  },
  {
   "cell_type": "code",
   "execution_count": null,
   "metadata": {},
   "outputs": [],
   "source": [
    "fig, ax = plt.subplots()\n",
    "\n",
    "cmap = mpl.cm.get_cmap('plasma', len(total_energies))\n",
    "\n",
    "# make a dummie mappable for the colorbar\n",
    "log_energies = np.log10(total_energies)\n",
    "c = np.arange(1, len(log_energies)+1)\n",
    "v = [float(_) for _ in log_energies]\n",
    "dummie_cax = ax.scatter(c, c, c = v, cmap = cmap)\n",
    "\n",
    "# clear axis\n",
    "ax.cla()\n",
    "\n",
    "plot_setup('both')\n",
    "\n",
    "for i, w in enumerate(total_energies):\n",
    "    \n",
    "    ax.plot(nu_syn, synch_seds[i][50], color = cmap(i))\n",
    "    \n",
    "fig.colorbar(dummie_cax, ticks = [v[0], v[50], v[100]], label = 'log(W)')\n",
    "\n",
    "ax.set_xlabel('ν [Hz]',fontsize = 16)\n",
    "ax.set_ylabel(r'ν F$_{\\nu}$ [erg/cm$^{2}$/s]', fontsize = 16)\n",
    "ax.set_title('W$_{e}$ variable -- p ~ 2.5', fontsize = 16)\n",
    "ax.set_ylim(1e-18, 1e1)"
   ]
  },
  {
   "cell_type": "markdown",
   "id": "2b4637bb-d617-4fcd-b3fb-a6595e2e82e3",
   "metadata": {},
   "source": [
    "### SSC"
   ]
  },
  {
   "cell_type": "markdown",
   "id": "427071c6-1cc7-491d-b1db-c6eb087c2dba",
   "metadata": {},
   "source": [
    "Now we do a similar process with the SSC spectrum\n",
    "Again we only consider the one obtained over a SSA spectrum.\n"
   ]
  },
  {
   "cell_type": "code",
   "execution_count": null,
   "metadata": {},
   "outputs": [],
   "source": [
    "nu_ssc = np.logspace(15, 30) * u.Hz\n",
    "\n",
    "ssc_seds = []\n",
    "for i in range(len(total_energies)):\n",
    "\n",
    "    these_seds = []\n",
    "    for j in range(len(powers)):\n",
    "        blob = blobs[i][j]\n",
    "        ssc = SynchrotronSelfCompton(blob, ssa = True)\n",
    "        ssc_sed = ssc.sed_flux(nu_ssc)\n",
    "        these_seds.append(ssc_sed)\n",
    "\n",
    "    ssc_seds.append(these_seds)"
   ]
  },
  {
   "cell_type": "markdown",
   "id": "f620d9db-3bd2-474a-ba04-6a5c0d385d7a",
   "metadata": {},
   "source": [
    "Let's plot the SSC spectrum for fixed W_e\n",
    "$W_e \\sim 10^{48}$ erg ($W_e$ = total_energies[60])\n"
   ]
  },
  {
   "cell_type": "code",
   "execution_count": null,
   "metadata": {},
   "outputs": [],
   "source": [
    "\n",
    "fig, ax = plt.subplots()\n",
    "\n",
    "\n",
    "cmap = mpl.cm.get_cmap('plasma', len(powers))\n",
    "\n",
    "# make a dummie mappable for the colorbar\n",
    "c = np.arange(1, len(powers)+1)\n",
    "v = [float(_) for _ in powers]\n",
    "dummie_cax = ax.scatter(c, c, c = v, cmap = cmap)\n",
    "\n",
    "# clear axis\n",
    "ax.cla()\n",
    "\n",
    "plot_setup('both')\n",
    "\n",
    "for j, p in enumerate(powers):\n",
    "    \n",
    "    ax.plot(nu_ssc, ssc_seds[60][j], color = cmap(j))\n",
    "fig.colorbar(dummie_cax, ticks a= [v[0], v[50], v[100]], label = 'p')\n",
    "\n",
    "ax.set_xlabel('ν [Hz]',fontsize = 16)\n",
    "ax.set_ylabel(r'ν F$_{\\nu}$ [erg/cm$^{2}$/s]', fontsize = 16)\n",
    "ax.set_title('W$_{e}$ = 10$^{48}$ erg -- p variable', fontsize = 16)\n",
    "ax.set_ylim(1e-16, 1e-7)"
   ]
  },
  {
   "cell_type": "markdown",
   "id": "9b3c1641-dfeb-4e22-bff3-bbc09fa1a399",
   "metadata": {},
   "source": [
    "Now we fix p = 2.5 (p = powers[50]) and variating $W_e$\n"
   ]
  },
  {
   "cell_type": "code",
   "execution_count": null,
   "metadata": {},
   "outputs": [],
   "source": [
    "fig, ax = plt.subplots()\n",
    "\n",
    "\n",
    "cmap = mpl.cm.get_cmap('plasma', len(total_energies))\n",
    "\n",
    "# make a dummie mappable for the colorbar\n",
    "log_energies = np.log10(total_energies)\n",
    "c = np.arange(1, len(log_energies)+1)\n",
    "v = [float(_) for _ in log_energies]\n",
    "dummie_cax = ax.scatter(c, c, c = v, cmap = cmap)\n",
    "\n",
    "# clear axis\n",
    "ax.cla()\n",
    "\n",
    "plot_setup('both')\n",
    "\n",
    "for i, w in enumerate(total_energies):\n",
    "    \n",
    "    ax.plot(nu_ssc, ssc_seds[i][50], color = cmap(i))\n",
    "    \n",
    "fig.colorbar(dummie_cax, ticks = [v[0], v[50], v[100]], label = 'log(W)')\n",
    "\n",
    "ax.set_xlabel('ν [Hz]',fontsize = 16)\n",
    "ax.set_ylabel(r'ν F$_{\\nu}$ [erg/cm$^{2}$/s]', fontsize = 16)\n",
    "ax.set_title('W$_{e}$ variable -- p ~ 2.5', fontsize = 16)\n",
    "ax.set_ylim(1e-18, 1e1)"
   ]
  },
  {
   "cell_type": "markdown",
   "id": "5f996b16-059c-49f2-980e-17916aae5646",
   "metadata": {},
   "source": [
    "### Total SED"
   ]
  },
  {
   "cell_type": "markdown",
   "id": "05c4ad3c-5efa-4c55-ae0f-a5b6c8f3fbf1",
   "metadata": {},
   "source": [
    "Similarly to the fixed parameters case we define the spectra on the same range of frequencies\n",
    "so that we can properly sum the two emissions\n"
   ]
  },
  {
   "cell_type": "code",
   "execution_count": null,
   "metadata": {},
   "outputs": [],
   "source": [
    "nu= np.logspace(8, 30) * u.Hz\n",
    "\n",
    "total_seds = []\n",
    "synch_seds = []\n",
    "ssc_seds = []\n",
    "for i in range(len(total_energies)):\n",
    "\n",
    "    these_seds = []\n",
    "    these_synchs = []\n",
    "    these_sscs = []\n",
    "    for j in range(len(powers)):\n",
    "        blob = blobs[i][j]\n",
    "\n",
    "        synch = Synchrotron(blob, ssa = True)\n",
    "        synch_sed = synch.sed_flux(nu)\n",
    "        these_synchs.append(synch_sed)\n",
    "\n",
    "        ssc = SynchrotronSelfCompton(blob, ssa = True)\n",
    "        ssc_sed = ssc.sed_flux(nu)\n",
    "        these_sscs.append(ssc_sed)\n",
    "\n",
    "        total_sed = synch_sed + ssc_sed\n",
    "        these_seds.append(total_sed)\n",
    "\n",
    "    total_seds.append(these_seds)\n",
    "    synch_seds.append(these_synchs)\n",
    "    ssc_seds.append(these_sscs)\n",
    "    "
   ]
  },
  {
   "cell_type": "markdown",
   "id": "9add1e24-6e29-45e7-86cf-6b533654e4a4",
   "metadata": {},
   "source": [
    "Let's plot the total spectrum for fixed W_e\n",
    " $W_e \\sim 10^{48}$ erg ($W_e$ = total_energies[60])\n"
   ]
  },
  {
   "cell_type": "code",
   "execution_count": null,
   "metadata": {},
   "outputs": [],
   "source": [
    "\n",
    "fig, ax = plt.subplots()\n",
    "\n",
    "\n",
    "cmap = mpl.cm.get_cmap('plasma', len(powers))\n",
    "\n",
    "# make a dummie mappable for the colorbar\n",
    "c = np.arange(1, len(powers)+1)\n",
    "v = [float(_) for _ in powers]\n",
    "dummie_cax = ax.scatter(c, c, c = v, cmap = cmap)\n",
    "\n",
    "# clear axis\n",
    "ax.cla()\n",
    "\n",
    "plot_setup('both')\n",
    "\n",
    "for j, p in enumerate(powers):\n",
    "    \n",
    "    ax.plot(nu, total_seds[60][j], color = cmap(j))\n",
    "fig.colorbar(dummie_cax, ticks= [v[0], v[50], v[100]], label = 'p')\n",
    "\n",
    "ax.set_xlabel('ν [Hz]',fontsize = 16)\n",
    "ax.set_ylabel(r'ν F$_{\\nu}$ [erg/cm$^{2}$/s]', fontsize = 16)\n",
    "ax.set_title('W$_{e}$ = 10$^{48}$ erg -- p variable', fontsize = 16)\n",
    "ax.set_ylim(1e-12, 1e-7)"
   ]
  },
  {
   "cell_type": "markdown",
   "id": "e7489895-2f5f-4c98-9f80-49893729ac87",
   "metadata": {},
   "source": [
    " Now we fix p = 2.5 (p = powers[50]) and variating $W_e$\n"
   ]
  },
  {
   "cell_type": "code",
   "execution_count": null,
   "metadata": {},
   "outputs": [],
   "source": [
    "fig, ax = plt.subplots()\n",
    "\n",
    "\n",
    "cmap = mpl.cm.get_cmap('plasma', len(total_energies))\n",
    "\n",
    "# make a dummie mappable for the colorbar\n",
    "log_energies = np.log10(total_energies)\n",
    "c = np.arange(1, len(log_energies)+1)\n",
    "v = [float(_) for _ in log_energies]\n",
    "dummie_cax = ax.scatter(c, c, c = v, cmap = cmap)\n",
    "\n",
    "# clear axis\n",
    "ax.cla()\n",
    "\n",
    "plot_setup('both')\n",
    "\n",
    "for i, w in enumerate(total_energies):\n",
    "    \n",
    "    ax.plot(nu, total_seds[i][50], color = cmap(i))\n",
    "    \n",
    "fig.colorbar(dummie_cax, ticks = [v[0], v[50], v[100]], label = 'log(W)')\n",
    "\n",
    "ax.set_xlabel('ν [Hz]',fontsize = 16)\n",
    "ax.set_ylabel(r'ν F$_{\\nu}$ [erg/cm$^{2}$/s]', fontsize = 16)\n",
    "ax.set_title('W$_{e}$ variable -- p ~ 2.5', fontsize = 16)\n",
    "ax.set_ylim(1e-18, 1e1)"
   ]
  }
 ],
 "metadata": {
  "kernelspec": {
   "display_name": "Python 3 (ipykernel)",
   "language": "python",
   "name": "python3"
  },
  "language_info": {
   "codemirror_mode": {
    "name": "ipython",
    "version": 3
   },
   "file_extension": ".py",
   "mimetype": "text/x-python",
   "name": "python",
   "nbconvert_exporter": "python",
   "pygments_lexer": "ipython3",
   "version": "3.11.4"
  }
 },
 "nbformat": 4,
 "nbformat_minor": 5
}
