{
  "nbformat": 4,
  "nbformat_minor": 0,
  "metadata": {
    "colab": {
      "provenance": []
    },
    "kernelspec": {
      "name": "python3",
      "display_name": "Python 3"
    },
    "language_info": {
      "name": "python"
    }
  },
  "cells": [
    {
      "cell_type": "markdown",
      "source": [
        "This notebook is an outline for the final project.\n",
        "The goal is to build a toy model for the spectrum of a Blazar and show its dependency from relevant parameters"
      ],
      "metadata": {
        "id": "cdQ1PvOf7yyQ"
      }
    },
    {
      "cell_type": "markdown",
      "source": [
        "# Building Blocks\n",
        "We start the project by modeling the two 'humps' of the Blazar spectrum individually."
      ],
      "metadata": {
        "id": "3ralTVZt7y8V"
      }
    },
    {
      "cell_type": "markdown",
      "source": [
        "*In this cell we define the Compton emission*"
      ],
      "metadata": {
        "id": "mBo3jcCo9F8B"
      }
    },
    {
      "cell_type": "markdown",
      "source": [
        "*In this cell we plot the Compton emission*"
      ],
      "metadata": {
        "id": "RAw8ppWr9GD7"
      }
    },
    {
      "cell_type": "markdown",
      "source": [
        "*In this cell we define the inverse Compton emission*"
      ],
      "metadata": {
        "id": "9XJw-2MH9GKQ"
      }
    },
    {
      "cell_type": "markdown",
      "source": [
        "*In this cell we plot the inverse Compton emission*"
      ],
      "metadata": {
        "id": "PEn0CSj-9GN4"
      }
    },
    {
      "cell_type": "markdown",
      "source": [
        "# Combination of the emissions\n",
        "\n",
        "After defining the individual components of the spectrum we can combine them.\n",
        "In this phase we can insert a widget that let's us tweak the relative contribution of each spectrum."
      ],
      "metadata": {
        "id": "O-qGtSW19h5p"
      }
    },
    {
      "cell_type": "markdown",
      "source": [
        "*In this cell we plot the two spectra with a widget that lets us control the height and position of the two peaks*"
      ],
      "metadata": {
        "id": "aiCXlvZ1BFjm"
      }
    },
    {
      "cell_type": "markdown",
      "source": [
        "*In this cell we plot the two spectra with fixed relative contribution and tweak the opening angle of the jet*"
      ],
      "metadata": {
        "id": "6UNnWocgDFdT"
      }
    },
    {
      "cell_type": "markdown",
      "source": [
        "*In this cell we plot the two spectra with fixed opening angle and tweak the inclination of the jet from the line of sight*"
      ],
      "metadata": {
        "id": "3-iQSYbcDWjJ"
      }
    },
    {
      "cell_type": "code",
      "source": [],
      "metadata": {
        "id": "-LBSZIFbDgZC"
      },
      "execution_count": null,
      "outputs": []
    }
  ]
}